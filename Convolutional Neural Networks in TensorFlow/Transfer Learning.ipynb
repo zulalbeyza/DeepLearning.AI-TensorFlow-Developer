{
  "cells": [
    {
      "cell_type": "markdown",
      "metadata": {
        "id": "f8cj-HBNoEZy"
      },
      "source": [
        "# Week 3: Transfer Learning\n",
        "\n",
        "Welcome to this assignment! This week, you are going to use a technique called `Transfer Learning` in which you utilize an already trained network to help you solve a similar problem to the one it was originally trained to solve.\n",
        "\n",
        "Let's get started!"
      ],
      "id": "f8cj-HBNoEZy"
    },
    {
      "cell_type": "code",
      "execution_count": 2,
      "metadata": {
        "id": "lbFmQdsZs5eW",
        "tags": [
          "graded"
        ]
      },
      "outputs": [],
      "source": [
        "import os\n",
        "import zipfile\n",
        "import matplotlib.pyplot as plt\n",
        "import tensorflow as tf\n",
        "from tensorflow.keras import layers\n",
        "from tensorflow.keras import Model\n",
        "from tensorflow.keras.optimizers import RMSprop\n",
        "from tensorflow.keras.preprocessing.image import ImageDataGenerator\n",
        "from tensorflow.keras.utils import img_to_array, load_img"
      ],
      "id": "lbFmQdsZs5eW"
    },
    {
      "cell_type": "markdown",
      "metadata": {
        "id": "RPvtLK1GyUWr"
      },
      "source": [
        "## Dataset\n",
        "\n",
        "For this assignment, you will use the `Horse or Human dataset`, which contains images of horses and humans. \n",
        "\n",
        "Download the `training` and `validation` sets by running the cell below:"
      ],
      "id": "RPvtLK1GyUWr"
    },
    {
      "cell_type": "code",
      "execution_count": 3,
      "metadata": {
        "id": "dIeTNcPEo79J",
        "tags": []
      },
      "outputs": [],
      "source": [
        "# Get the Horse or Human training dataset\n",
        "!wget -q -P /content/ https://storage.googleapis.com/tensorflow-1-public/course2/week3/horse-or-human.zip\n",
        "\n",
        "# Get the Horse or Human validation dataset\n",
        "!wget -q -P /content/ https://storage.googleapis.com/tensorflow-1-public/course2/week3/validation-horse-or-human.zip\n",
        "\n",
        "test_local_zip = './horse-or-human.zip'\n",
        "zip_ref = zipfile.ZipFile(test_local_zip, 'r')\n",
        "zip_ref.extractall('/tmp/training')\n",
        "\n",
        "val_local_zip = './validation-horse-or-human.zip'\n",
        "zip_ref = zipfile.ZipFile(val_local_zip, 'r')\n",
        "zip_ref.extractall('/tmp/validation')\n",
        "\n",
        "zip_ref.close()"
      ],
      "id": "dIeTNcPEo79J"
    },
    {
      "cell_type": "markdown",
      "metadata": {
        "id": "x4OMDxYS6tmv"
      },
      "source": [
        "This dataset already has an structure that is compatible with Keras' `flow_from_directory` so you don't need to move the images into subdirectories as you did in the previous assignments. However, it is still a good idea to save the paths of the images so you can use them later on:"
      ],
      "id": "x4OMDxYS6tmv"
    },
    {
      "cell_type": "code",
      "execution_count": 4,
      "metadata": {
        "id": "lHRrmo5CpEw_",
        "lines_to_next_cell": 2,
        "tags": [
          "graded"
        ],
        "outputId": "3cf039bb-0bb7-421d-9479-b5b9d95242fd",
        "colab": {
          "base_uri": "https://localhost:8080/"
        }
      },
      "outputs": [
        {
          "output_type": "stream",
          "name": "stdout",
          "text": [
            "There are 500 images of horses for training.\n",
            "\n",
            "There are 527 images of humans for training.\n",
            "\n",
            "There are 128 images of horses for validation.\n",
            "\n",
            "There are 128 images of humans for validation.\n",
            "\n"
          ]
        }
      ],
      "source": [
        "# Define the training and validation base directories\n",
        "train_dir = '/tmp/training'\n",
        "validation_dir = '/tmp/validation'\n",
        "\n",
        "# Directory with training horse pictures\n",
        "train_horses_dir = os.path.join(train_dir, 'horses')\n",
        "# Directory with training humans pictures\n",
        "train_humans_dir = os.path.join(train_dir, 'humans')\n",
        "# Directory with validation horse pictures\n",
        "validation_horses_dir = os.path.join(validation_dir, 'horses')\n",
        "# Directory with validation human pictures\n",
        "validation_humans_dir = os.path.join(validation_dir, 'humans')\n",
        "\n",
        "# Check the number of images for each class and set\n",
        "print(f\"There are {len(os.listdir(train_horses_dir))} images of horses for training.\\n\")\n",
        "print(f\"There are {len(os.listdir(train_humans_dir))} images of humans for training.\\n\")\n",
        "print(f\"There are {len(os.listdir(validation_horses_dir))} images of horses for validation.\\n\")\n",
        "print(f\"There are {len(os.listdir(validation_humans_dir))} images of humans for validation.\\n\")"
      ],
      "id": "lHRrmo5CpEw_"
    },
    {
      "cell_type": "markdown",
      "metadata": {
        "id": "1G5hXBB57c78"
      },
      "source": [
        "Now take a look at a sample image of each one of the classes:"
      ],
      "id": "1G5hXBB57c78"
    },
    {
      "cell_type": "code",
      "execution_count": 5,
      "metadata": {
        "id": "HgbMs7p0qSKr",
        "tags": [
          "graded"
        ],
        "outputId": "774ff156-3ec9-449b-86dd-073b691cbd76",
        "colab": {
          "base_uri": "https://localhost:8080/",
          "height": 573
        }
      },
      "outputs": [
        {
          "output_type": "stream",
          "name": "stdout",
          "text": [
            "Sample horse image:\n"
          ]
        },
        {
          "output_type": "display_data",
          "data": {
            "text/plain": [
              "<Figure size 432x288 with 1 Axes>"
            ],
            "image/png": "[encoded data removed]"
          },
          "metadata": {
            "needs_background": "light"
          }
        },
        {
          "output_type": "stream",
          "name": "stdout",
          "text": [
            "\n",
            "Sample human image:\n"
          ]
        },
        {
          "output_type": "display_data",
          "data": {
            "text/plain": [
              "<Figure size 432x288 with 1 Axes>"
            ],
            "image/png": "[encoded data removed]"
          },
          "metadata": {
            "needs_background": "light"
          }
        }
      ],
      "source": [
        "print(\"Sample horse image:\")\n",
        "plt.imshow(load_img(f\"{os.path.join(train_horses_dir, os.listdir(train_horses_dir)[0])}\"))\n",
        "plt.show()\n",
        "\n",
        "print(\"\\nSample human image:\")\n",
        "plt.imshow(load_img(f\"{os.path.join(train_humans_dir, os.listdir(train_humans_dir)[0])}\"))\n",
        "plt.show()"
      ],
      "id": "HgbMs7p0qSKr"
    },
    {
      "cell_type": "markdown",
      "metadata": {
        "id": "LBnbnY0c8Zd0"
      },
      "source": [
        "`matplotlib` makes it easy to see that these images have a resolution of 300x300 and are colored, but you can double check this by using the code below:"
      ],
      "id": "LBnbnY0c8Zd0"
    },
    {
      "cell_type": "code",
      "execution_count": 6,
      "metadata": {
        "id": "4lIGjHC5pxua",
        "tags": [
          "graded"
        ],
        "outputId": "b5de6a85-a0d2-4cbb-ff42-5b197298abb4",
        "colab": {
          "base_uri": "https://localhost:8080/"
        }
      },
      "outputs": [
        {
          "output_type": "stream",
          "name": "stdout",
          "text": [
            "Each image has shape: (300, 300, 3)\n"
          ]
        }
      ],
      "source": [
        "# Load the first example of a horse\n",
        "sample_image  = load_img(f\"{os.path.join(train_horses_dir, os.listdir(train_horses_dir)[0])}\")\n",
        "\n",
        "# Convert the image into its numpy array representation\n",
        "sample_array = img_to_array(sample_image)\n",
        "\n",
        "print(f\"Each image has shape: {sample_array.shape}\")"
      ],
      "id": "4lIGjHC5pxua"
    },
    {
      "cell_type": "markdown",
      "metadata": {
        "id": "4fYwAYyd8zEm"
      },
      "source": [
        "As expected, the sample image has a resolution of 300x300 and the last dimension is used for each one of the RGB channels to represent color."
      ],
      "id": "4fYwAYyd8zEm"
    },
    {
      "cell_type": "markdown",
      "metadata": {
        "id": "6HcE1TSqNRY2"
      },
      "source": [
        "## Training and Validation Generators\n",
        "\n",
        "Now that you know the images you are dealing with, it is time for you to code the generators that will fed these images to your Network. For this, complete the `train_val_generators` function below:\n",
        "\n",
        "**Important Note:** The images have a resolution of 300x300 but the `flow_from_directory` method you will use allows you to set a target resolution. In this case, **set a `target_size` of (150, 150)**. This will heavily lower the number of trainable parameters in your final network, yielding much quicker training times without compromising the accuracy!"
      ],
      "id": "6HcE1TSqNRY2"
    },
    {
      "cell_type": "code",
      "execution_count": 7,
      "metadata": {
        "cellView": "code",
        "id": "AX5Q3NL_FXMT",
        "tags": [
          "graded"
        ]
      },
      "outputs": [],
      "source": [
        "# GRADED FUNCTION: train_val_generators\n",
        "def train_val_generators(TRAINING_DIR, VALIDATION_DIR):\n",
        "  \"\"\"\n",
        "  Creates the training and validation data generators\n",
        "  \n",
        "  Args:\n",
        "    TRAINING_DIR (string): directory path containing the training images\n",
        "    VALIDATION_DIR (string): directory path containing the testing/validation images\n",
        "    \n",
        "  Returns:\n",
        "    train_generator, validation_generator: tuple containing the generators\n",
        "  \"\"\"\n",
        "  ### START CODE HERE\n",
        "\n",
        "  # Instantiate the ImageDataGenerator class \n",
        "  # Don't forget to normalize pixel values and set arguments to augment the images \n",
        "  train_datagen = ImageDataGenerator(rescale=1/255.0)\n",
        "\n",
        "  # Pass in the appropriate arguments to the flow_from_directory method\n",
        "  train_generator = train_datagen.flow_from_directory(directory=TRAINING_DIR,\n",
        "                                                      batch_size=32, \n",
        "                                                      class_mode='binary',\n",
        "                                                      target_size=(150, 150))\n",
        "\n",
        "  # Instantiate the ImageDataGenerator class (don't forget to set the rescale argument)\n",
        "  # Remember that validation data should not be augmented\n",
        "  validation_datagen = ImageDataGenerator(rescale=1/255.0)\n",
        "\n",
        "  # Pass in the appropriate arguments to the flow_from_directory method\n",
        "  validation_generator = validation_datagen.flow_from_directory(directory=VALIDATION_DIR,\n",
        "                                                                batch_size=32, \n",
        "                                                                class_mode='binary',\n",
        "                                                                target_size=(150, 150))\n",
        "  ### END CODE HERE\n",
        "  return train_generator, validation_generator\n"
      ],
      "id": "AX5Q3NL_FXMT"
    },
    {
      "cell_type": "code",
      "execution_count": 8,
      "metadata": {
        "id": "8FLUUqMKFwVR",
        "tags": [
          "graded"
        ],
        "outputId": "8d8061ad-1d30-40f4-d1f7-96f0a6fd5690",
        "colab": {
          "base_uri": "https://localhost:8080/"
        }
      },
      "outputs": [
        {
          "output_type": "stream",
          "name": "stdout",
          "text": [
            "Found 1027 images belonging to 2 classes.\n",
            "Found 256 images belonging to 2 classes.\n"
          ]
        }
      ],
      "source": [
        "# Test your generators\n",
        "train_generator, validation_generator = train_val_generators(train_dir, validation_dir)"
      ],
      "id": "8FLUUqMKFwVR"
    },
    {
      "cell_type": "markdown",
      "metadata": {
        "id": "TszKWhunQaj4"
      },
      "source": [
        "**Expected Output:**\n",
        "```\n",
        "Found 1027 images belonging to 2 classes.\n",
        "Found 256 images belonging to 2 classes.\n",
        "```"
      ],
      "id": "TszKWhunQaj4"
    },
    {
      "cell_type": "markdown",
      "metadata": {
        "id": "Izx51Ju1rXwd"
      },
      "source": [
        "## Transfer learning - Create the pre-trained model\n",
        "\n",
        "Download the `inception V3` weights into the `/tmp/` directory:"
      ],
      "id": "Izx51Ju1rXwd"
    },
    {
      "cell_type": "code",
      "execution_count": 9,
      "metadata": {
        "id": "-lEzPAqxrPcU",
        "tags": [],
        "outputId": "311cbd01-f01e-4234-8157-5c76264975be",
        "colab": {
          "base_uri": "https://localhost:8080/"
        }
      },
      "outputs": [
        {
          "output_type": "stream",
          "name": "stdout",
          "text": [
            "--2022-10-21 17:21:09--  https://storage.googleapis.com/mledu-datasets/inception_v3_weights_tf_dim_ordering_tf_kernels_notop.h5\n",
            "Resolving storage.googleapis.com (storage.googleapis.com)... 74.125.24.128, 172.217.194.128, 142.251.10.128, ...\n",
            "Connecting to storage.googleapis.com (storage.googleapis.com)|74.125.24.128|:443... connected.\n",
            "HTTP request sent, awaiting response... 200 OK\n",
            "Length: 87910968 (84M) [application/x-hdf]\n",
            "Saving to: ‘/tmp/inception_v3_weights_tf_dim_ordering_tf_kernels_notop.h5’\n",
            "\n",
            "/tmp/inception_v3_w 100%[===================>]  83.84M   328MB/s    in 0.3s    \n",
            "\n",
            "2022-10-21 17:21:10 (328 MB/s) - ‘/tmp/inception_v3_weights_tf_dim_ordering_tf_kernels_notop.h5’ saved [87910968/87910968]\n",
            "\n"
          ]
        }
      ],
      "source": [
        "# Download the inception v3 weights\n",
        "!wget --no-check-certificate \\\n",
        "    https://storage.googleapis.com/mledu-datasets/inception_v3_weights_tf_dim_ordering_tf_kernels_notop.h5 \\\n",
        "    -O /tmp/inception_v3_weights_tf_dim_ordering_tf_kernels_notop.h5"
      ],
      "id": "-lEzPAqxrPcU"
    },
    {
      "cell_type": "markdown",
      "metadata": {
        "id": "_zlXNulm9USZ"
      },
      "source": [
        "Now load the `InceptionV3` model and save the path to the weights you just downloaded:"
      ],
      "id": "_zlXNulm9USZ"
    },
    {
      "cell_type": "code",
      "execution_count": 10,
      "metadata": {
        "id": "zfmRpsMf7E3-",
        "tags": [
          "graded"
        ]
      },
      "outputs": [],
      "source": [
        "# Import the inception model  \n",
        "from tensorflow.keras.applications.inception_v3 import InceptionV3\n",
        "\n",
        "# Create an instance of the inception model from the local pre-trained weights\n",
        "local_weights_file = '/tmp/inception_v3_weights_tf_dim_ordering_tf_kernels_notop.h5'"
      ],
      "id": "zfmRpsMf7E3-"
    },
    {
      "cell_type": "markdown",
      "metadata": {
        "id": "ZPQb0PkT9_3w"
      },
      "source": [
        "Complete the `create_pre_trained_model` function below. You should specify the correct `input_shape` for the model (remember that you set a new resolution for the images instead of the native 300x300) and make all of the layers non-trainable:"
      ],
      "id": "ZPQb0PkT9_3w"
    },
    {
      "cell_type": "code",
      "execution_count": 23,
      "metadata": {
        "cellView": "code",
        "id": "x2JnQ6m8r5oe",
        "tags": [
          "graded"
        ]
      },
      "outputs": [],
      "source": [
        "# GRADED FUNCTION: create_pre_trained_model\n",
        "def create_pre_trained_model(local_weights_file):\n",
        "  \"\"\"\n",
        "  Initializes an InceptionV3 model.\n",
        "  \n",
        "  Args:\n",
        "    local_weights_file (string): path pointing to a pretrained weights H5 file\n",
        "    \n",
        "  Returns:\n",
        "    pre_trained_model: the initialized InceptionV3 model\n",
        "  \"\"\"\n",
        "  ### START CODE HERE\n",
        "  pre_trained_model = InceptionV3(input_shape = (150, 150, 3),\n",
        "                                  include_top = False, \n",
        "                                  weights = None) \n",
        "\n",
        "  pre_trained_model.load_weights(local_weights_file)\n",
        "\n",
        "  # Make all the layers in the pre-trained model non-trainable\n",
        "  for layer in pre_trained_model.layers:\n",
        "    layer.trainable = False\n",
        "\n",
        "  ### END CODE HERE\n",
        "\n",
        "  return pre_trained_model\n",
        "  "
      ],
      "id": "x2JnQ6m8r5oe"
    },
    {
      "cell_type": "markdown",
      "metadata": {
        "id": "phE00SCr-RCT"
      },
      "source": [
        "Check that everything went well by comparing the last few rows of the model summary to the expected output:"
      ],
      "id": "phE00SCr-RCT"
    },
    {
      "cell_type": "code",
      "execution_count": 24,
      "metadata": {
        "id": "ve7eh9iztT4q",
        "tags": [
          "graded"
        ],
        "outputId": "8e6bdc16-9321-47e9-e3b3-d7426c5b9c55",
        "colab": {
          "base_uri": "https://localhost:8080/"
        }
      },
      "outputs": [
        {
          "output_type": "stream",
          "name": "stdout",
          "text": [
            "Model: \"inception_v3\"\n",
            "__________________________________________________________________________________________________\n",
            " Layer (type)                   Output Shape         Param #     Connected to                     \n",
            "==================================================================================================\n",
            " input_3 (InputLayer)           [(None, 150, 150, 3  0           []                               \n",
            "                                )]                                                                \n",
            "                                                                                                  \n",
            " conv2d_188 (Conv2D)            (None, 74, 74, 32)   864         ['input_3[0][0]']                \n",
            "                                                                                                  \n",
            " batch_normalization_188 (Batch  (None, 74, 74, 32)  96          ['conv2d_188[0][0]']             \n",
            " Normalization)                                                                                   \n",
            "                                                                                                  \n",
            " activation_188 (Activation)    (None, 74, 74, 32)   0           ['batch_normalization_188[0][0]']\n",
            "                                                                                                  \n",
            " conv2d_189 (Conv2D)            (None, 72, 72, 32)   9216        ['activation_188[0][0]']         \n",
            "                                                                                                  \n",
            " batch_normalization_189 (Batch  (None, 72, 72, 32)  96          ['conv2d_189[0][0]']             \n",
            " Normalization)                                                                                   \n",
            "                                                                                                  \n",
            " activation_189 (Activation)    (None, 72, 72, 32)   0           ['batch_normalization_189[0][0]']\n",
            "                                                                                                  \n",
            " conv2d_190 (Conv2D)            (None, 72, 72, 64)   18432       ['activation_189[0][0]']         \n",
            "                                                                                                  \n",
            " batch_normalization_190 (Batch  (None, 72, 72, 64)  192         ['conv2d_190[0][0]']             \n",
            " Normalization)                                                                                   \n",
            "                                                                                                  \n",
            " activation_190 (Activation)    (None, 72, 72, 64)   0           ['batch_normalization_190[0][0]']\n",
            "                                                                                                  \n",
            " max_pooling2d_8 (MaxPooling2D)  (None, 35, 35, 64)  0           ['activation_190[0][0]']         \n",
            "                                                                                                  \n",
            " conv2d_191 (Conv2D)            (None, 35, 35, 80)   5120        ['max_pooling2d_8[0][0]']        \n",
            "                                                                                                  \n",
            " batch_normalization_191 (Batch  (None, 35, 35, 80)  240         ['conv2d_191[0][0]']             \n",
            " Normalization)                                                                                   \n",
            "                                                                                                  \n",
            " activation_191 (Activation)    (None, 35, 35, 80)   0           ['batch_normalization_191[0][0]']\n",
            "                                                                                                  \n",
            " conv2d_192 (Conv2D)            (None, 33, 33, 192)  138240      ['activation_191[0][0]']         \n",
            "                                                                                                  \n",
            " batch_normalization_192 (Batch  (None, 33, 33, 192)  576        ['conv2d_192[0][0]']             \n",
            " Normalization)                                                                                   \n",
            "                                                                                                  \n",
            " activation_192 (Activation)    (None, 33, 33, 192)  0           ['batch_normalization_192[0][0]']\n",
            "                                                                                                  \n",
            " max_pooling2d_9 (MaxPooling2D)  (None, 16, 16, 192)  0          ['activation_192[0][0]']         \n",
            "                                                                                                  \n",
            " conv2d_196 (Conv2D)            (None, 16, 16, 64)   12288       ['max_pooling2d_9[0][0]']        \n",
            "                                                                                                  \n",
            " batch_normalization_196 (Batch  (None, 16, 16, 64)  192         ['conv2d_196[0][0]']             \n",
            " Normalization)                                                                                   \n",
            "                                                                                                  \n",
            " activation_196 (Activation)    (None, 16, 16, 64)   0           ['batch_normalization_196[0][0]']\n",
            "                                                                                                  \n",
            " conv2d_194 (Conv2D)            (None, 16, 16, 48)   9216        ['max_pooling2d_9[0][0]']        \n",
            "                                                                                                  \n",
            " conv2d_197 (Conv2D)            (None, 16, 16, 96)   55296       ['activation_196[0][0]']         \n",
            "                                                                                                  \n",
            " batch_normalization_194 (Batch  (None, 16, 16, 48)  144         ['conv2d_194[0][0]']             \n",
            " Normalization)                                                                                   \n",
            "                                                                                                  \n",
            " batch_normalization_197 (Batch  (None, 16, 16, 96)  288         ['conv2d_197[0][0]']             \n",
            " Normalization)                                                                                   \n",
            "                                                                                                  \n",
            " activation_194 (Activation)    (None, 16, 16, 48)   0           ['batch_normalization_194[0][0]']\n",
            "                                                                                                  \n",
            " activation_197 (Activation)    (None, 16, 16, 96)   0           ['batch_normalization_197[0][0]']\n",
            "                                                                                                  \n",
            " average_pooling2d_18 (AverageP  (None, 16, 16, 192)  0          ['max_pooling2d_9[0][0]']        \n",
            " ooling2D)                                                                                        \n",
            "                                                                                                  \n",
            " conv2d_193 (Conv2D)            (None, 16, 16, 64)   12288       ['max_pooling2d_9[0][0]']        \n",
            "                                                                                                  \n",
            " conv2d_195 (Conv2D)            (None, 16, 16, 64)   76800       ['activation_194[0][0]']         \n",
            "                                                                                                  \n",
            " conv2d_198 (Conv2D)            (None, 16, 16, 96)   82944       ['activation_197[0][0]']         \n",
            "                                                                                                  \n",
            " conv2d_199 (Conv2D)            (None, 16, 16, 32)   6144        ['average_pooling2d_18[0][0]']   \n",
            "                                                                                                  \n",
            " batch_normalization_193 (Batch  (None, 16, 16, 64)  192         ['conv2d_193[0][0]']             \n",
            " Normalization)                                                                                   \n",
            "                                                                                                  \n",
            " batch_normalization_195 (Batch  (None, 16, 16, 64)  192         ['conv2d_195[0][0]']             \n",
            " Normalization)                                                                                   \n",
            "                                                                                                  \n",
            " batch_normalization_198 (Batch  (None, 16, 16, 96)  288         ['conv2d_198[0][0]']             \n",
            " Normalization)                                                                                   \n",
            "                                                                                                  \n",
            " batch_normalization_199 (Batch  (None, 16, 16, 32)  96          ['conv2d_199[0][0]']             \n",
            " Normalization)                                                                                   \n",
            "                                                                                                  \n",
            " activation_193 (Activation)    (None, 16, 16, 64)   0           ['batch_normalization_193[0][0]']\n",
            "                                                                                                  \n",
            " activation_195 (Activation)    (None, 16, 16, 64)   0           ['batch_normalization_195[0][0]']\n",
            "                                                                                                  \n",
            " activation_198 (Activation)    (None, 16, 16, 96)   0           ['batch_normalization_198[0][0]']\n",
            "                                                                                                  \n",
            " activation_199 (Activation)    (None, 16, 16, 32)   0           ['batch_normalization_199[0][0]']\n",
            "                                                                                                  \n",
            " mixed0 (Concatenate)           (None, 16, 16, 256)  0           ['activation_193[0][0]',         \n",
            "                                                                  'activation_195[0][0]',         \n",
            "                                                                  'activation_198[0][0]',         \n",
            "                                                                  'activation_199[0][0]']         \n",
            "                                                                                                  \n",
            " conv2d_203 (Conv2D)            (None, 16, 16, 64)   16384       ['mixed0[0][0]']                 \n",
            "                                                                                                  \n",
            " batch_normalization_203 (Batch  (None, 16, 16, 64)  192         ['conv2d_203[0][0]']             \n",
            " Normalization)                                                                                   \n",
            "                                                                                                  \n",
            " activation_203 (Activation)    (None, 16, 16, 64)   0           ['batch_normalization_203[0][0]']\n",
            "                                                                                                  \n",
            " conv2d_201 (Conv2D)            (None, 16, 16, 48)   12288       ['mixed0[0][0]']                 \n",
            "                                                                                                  \n",
            " conv2d_204 (Conv2D)            (None, 16, 16, 96)   55296       ['activation_203[0][0]']         \n",
            "                                                                                                  \n",
            " batch_normalization_201 (Batch  (None, 16, 16, 48)  144         ['conv2d_201[0][0]']             \n",
            " Normalization)                                                                                   \n",
            "                                                                                                  \n",
            " batch_normalization_204 (Batch  (None, 16, 16, 96)  288         ['conv2d_204[0][0]']             \n",
            " Normalization)                                                                                   \n",
            "                                                                                                  \n",
            " activation_201 (Activation)    (None, 16, 16, 48)   0           ['batch_normalization_201[0][0]']\n",
            "                                                                                                  \n",
            " activation_204 (Activation)    (None, 16, 16, 96)   0           ['batch_normalization_204[0][0]']\n",
            "                                                                                                  \n",
            " average_pooling2d_19 (AverageP  (None, 16, 16, 256)  0          ['mixed0[0][0]']                 \n",
            " ooling2D)                                                                                        \n",
            "                                                                                                  \n",
            " conv2d_200 (Conv2D)            (None, 16, 16, 64)   16384       ['mixed0[0][0]']                 \n",
            "                                                                                                  \n",
            " conv2d_202 (Conv2D)            (None, 16, 16, 64)   76800       ['activation_201[0][0]']         \n",
            "                                                                                                  \n",
            " conv2d_205 (Conv2D)            (None, 16, 16, 96)   82944       ['activation_204[0][0]']         \n",
            "                                                                                                  \n",
            " conv2d_206 (Conv2D)            (None, 16, 16, 64)   16384       ['average_pooling2d_19[0][0]']   \n",
            "                                                                                                  \n",
            " batch_normalization_200 (Batch  (None, 16, 16, 64)  192         ['conv2d_200[0][0]']             \n",
            " Normalization)                                                                                   \n",
            "                                                                                                  \n",
            " batch_normalization_202 (Batch  (None, 16, 16, 64)  192         ['conv2d_202[0][0]']             \n",
            " Normalization)                                                                                   \n",
            "                                                                                                  \n",
            " batch_normalization_205 (Batch  (None, 16, 16, 96)  288         ['conv2d_205[0][0]']             \n",
            " Normalization)                                                                                   \n",
            "                                                                                                  \n",
            " batch_normalization_206 (Batch  (None, 16, 16, 64)  192         ['conv2d_206[0][0]']             \n",
            " Normalization)                                                                                   \n",
            "                                                                                                  \n",
            " activation_200 (Activation)    (None, 16, 16, 64)   0           ['batch_normalization_200[0][0]']\n",
            "                                                                                                  \n",
            " activation_202 (Activation)    (None, 16, 16, 64)   0           ['batch_normalization_202[0][0]']\n",
            "                                                                                                  \n",
            " activation_205 (Activation)    (None, 16, 16, 96)   0           ['batch_normalization_205[0][0]']\n",
            "                                                                                                  \n",
            " activation_206 (Activation)    (None, 16, 16, 64)   0           ['batch_normalization_206[0][0]']\n",
            "                                                                                                  \n",
            " mixed1 (Concatenate)           (None, 16, 16, 288)  0           ['activation_200[0][0]',         \n",
            "                                                                  'activation_202[0][0]',         \n",
            "                                                                  'activation_205[0][0]',         \n",
            "                                                                  'activation_206[0][0]']         \n",
            "                                                                                                  \n",
            " conv2d_210 (Conv2D)            (None, 16, 16, 64)   18432       ['mixed1[0][0]']                 \n",
            "                                                                                                  \n",
            " batch_normalization_210 (Batch  (None, 16, 16, 64)  192         ['conv2d_210[0][0]']             \n",
            " Normalization)                                                                                   \n",
            "                                                                                                  \n",
            " activation_210 (Activation)    (None, 16, 16, 64)   0           ['batch_normalization_210[0][0]']\n",
            "                                                                                                  \n",
            " conv2d_208 (Conv2D)            (None, 16, 16, 48)   13824       ['mixed1[0][0]']                 \n",
            "                                                                                                  \n",
            " conv2d_211 (Conv2D)            (None, 16, 16, 96)   55296       ['activation_210[0][0]']         \n",
            "                                                                                                  \n",
            " batch_normalization_208 (Batch  (None, 16, 16, 48)  144         ['conv2d_208[0][0]']             \n",
            " Normalization)                                                                                   \n",
            "                                                                                                  \n",
            " batch_normalization_211 (Batch  (None, 16, 16, 96)  288         ['conv2d_211[0][0]']             \n",
            " Normalization)                                                                                   \n",
            "                                                                                                  \n",
            " activation_208 (Activation)    (None, 16, 16, 48)   0           ['batch_normalization_208[0][0]']\n",
            "                                                                                                  \n",
            " activation_211 (Activation)    (None, 16, 16, 96)   0           ['batch_normalization_211[0][0]']\n",
            "                                                                                                  \n",
            " average_pooling2d_20 (AverageP  (None, 16, 16, 288)  0          ['mixed1[0][0]']                 \n",
            " ooling2D)                                                                                        \n",
            "                                                                                                  \n",
            " conv2d_207 (Conv2D)            (None, 16, 16, 64)   18432       ['mixed1[0][0]']                 \n",
            "                                                                                                  \n",
            " conv2d_209 (Conv2D)            (None, 16, 16, 64)   76800       ['activation_208[0][0]']         \n",
            "                                                                                                  \n",
            " conv2d_212 (Conv2D)            (None, 16, 16, 96)   82944       ['activation_211[0][0]']         \n",
            "                                                                                                  \n",
            " conv2d_213 (Conv2D)            (None, 16, 16, 64)   18432       ['average_pooling2d_20[0][0]']   \n",
            "                                                                                                  \n",
            " batch_normalization_207 (Batch  (None, 16, 16, 64)  192         ['conv2d_207[0][0]']             \n",
            " Normalization)                                                                                   \n",
            "                                                                                                  \n",
            " batch_normalization_209 (Batch  (None, 16, 16, 64)  192         ['conv2d_209[0][0]']             \n",
            " Normalization)                                                                                   \n",
            "                                                                                                  \n",
            " batch_normalization_212 (Batch  (None, 16, 16, 96)  288         ['conv2d_212[0][0]']             \n",
            " Normalization)                                                                                   \n",
            "                                                                                                  \n",
            " batch_normalization_213 (Batch  (None, 16, 16, 64)  192         ['conv2d_213[0][0]']             \n",
            " Normalization)                                                                                   \n",
            "                                                                                                  \n",
            " activation_207 (Activation)    (None, 16, 16, 64)   0           ['batch_normalization_207[0][0]']\n",
            "                                                                                                  \n",
            " activation_209 (Activation)    (None, 16, 16, 64)   0           ['batch_normalization_209[0][0]']\n",
            "                                                                                                  \n",
            " activation_212 (Activation)    (None, 16, 16, 96)   0           ['batch_normalization_212[0][0]']\n",
            "                                                                                                  \n",
            " activation_213 (Activation)    (None, 16, 16, 64)   0           ['batch_normalization_213[0][0]']\n",
            "                                                                                                  \n",
            " mixed2 (Concatenate)           (None, 16, 16, 288)  0           ['activation_207[0][0]',         \n",
            "                                                                  'activation_209[0][0]',         \n",
            "                                                                  'activation_212[0][0]',         \n",
            "                                                                  'activation_213[0][0]']         \n",
            "                                                                                                  \n",
            " conv2d_215 (Conv2D)            (None, 16, 16, 64)   18432       ['mixed2[0][0]']                 \n",
            "                                                                                                  \n",
            " batch_normalization_215 (Batch  (None, 16, 16, 64)  192         ['conv2d_215[0][0]']             \n",
            " Normalization)                                                                                   \n",
            "                                                                                                  \n",
            " activation_215 (Activation)    (None, 16, 16, 64)   0           ['batch_normalization_215[0][0]']\n",
            "                                                                                                  \n",
            " conv2d_216 (Conv2D)            (None, 16, 16, 96)   55296       ['activation_215[0][0]']         \n",
            "                                                                                                  \n",
            " batch_normalization_216 (Batch  (None, 16, 16, 96)  288         ['conv2d_216[0][0]']             \n",
            " Normalization)                                                                                   \n",
            "                                                                                                  \n",
            " activation_216 (Activation)    (None, 16, 16, 96)   0           ['batch_normalization_216[0][0]']\n",
            "                                                                                                  \n",
            " conv2d_214 (Conv2D)            (None, 7, 7, 384)    995328      ['mixed2[0][0]']                 \n",
            "                                                                                                  \n",
            " conv2d_217 (Conv2D)            (None, 7, 7, 96)     82944       ['activation_216[0][0]']         \n",
            "                                                                                                  \n",
            " batch_normalization_214 (Batch  (None, 7, 7, 384)   1152        ['conv2d_214[0][0]']             \n",
            " Normalization)                                                                                   \n",
            "                                                                                                  \n",
            " batch_normalization_217 (Batch  (None, 7, 7, 96)    288         ['conv2d_217[0][0]']             \n",
            " Normalization)                                                                                   \n",
            "                                                                                                  \n",
            " activation_214 (Activation)    (None, 7, 7, 384)    0           ['batch_normalization_214[0][0]']\n",
            "                                                                                                  \n",
            " activation_217 (Activation)    (None, 7, 7, 96)     0           ['batch_normalization_217[0][0]']\n",
            "                                                                                                  \n",
            " max_pooling2d_10 (MaxPooling2D  (None, 7, 7, 288)   0           ['mixed2[0][0]']                 \n",
            " )                                                                                                \n",
            "                                                                                                  \n",
            " mixed3 (Concatenate)           (None, 7, 7, 768)    0           ['activation_214[0][0]',         \n",
            "                                                                  'activation_217[0][0]',         \n",
            "                                                                  'max_pooling2d_10[0][0]']       \n",
            "                                                                                                  \n",
            " conv2d_222 (Conv2D)            (None, 7, 7, 128)    98304       ['mixed3[0][0]']                 \n",
            "                                                                                                  \n",
            " batch_normalization_222 (Batch  (None, 7, 7, 128)   384         ['conv2d_222[0][0]']             \n",
            " Normalization)                                                                                   \n",
            "                                                                                                  \n",
            " activation_222 (Activation)    (None, 7, 7, 128)    0           ['batch_normalization_222[0][0]']\n",
            "                                                                                                  \n",
            " conv2d_223 (Conv2D)            (None, 7, 7, 128)    114688      ['activation_222[0][0]']         \n",
            "                                                                                                  \n",
            " batch_normalization_223 (Batch  (None, 7, 7, 128)   384         ['conv2d_223[0][0]']             \n",
            " Normalization)                                                                                   \n",
            "                                                                                                  \n",
            " activation_223 (Activation)    (None, 7, 7, 128)    0           ['batch_normalization_223[0][0]']\n",
            "                                                                                                  \n",
            " conv2d_219 (Conv2D)            (None, 7, 7, 128)    98304       ['mixed3[0][0]']                 \n",
            "                                                                                                  \n",
            " conv2d_224 (Conv2D)            (None, 7, 7, 128)    114688      ['activation_223[0][0]']         \n",
            "                                                                                                  \n",
            " batch_normalization_219 (Batch  (None, 7, 7, 128)   384         ['conv2d_219[0][0]']             \n",
            " Normalization)                                                                                   \n",
            "                                                                                                  \n",
            " batch_normalization_224 (Batch  (None, 7, 7, 128)   384         ['conv2d_224[0][0]']             \n",
            " Normalization)                                                                                   \n",
            "                                                                                                  \n",
            " activation_219 (Activation)    (None, 7, 7, 128)    0           ['batch_normalization_219[0][0]']\n",
            "                                                                                                  \n",
            " activation_224 (Activation)    (None, 7, 7, 128)    0           ['batch_normalization_224[0][0]']\n",
            "                                                                                                  \n",
            " conv2d_220 (Conv2D)            (None, 7, 7, 128)    114688      ['activation_219[0][0]']         \n",
            "                                                                                                  \n",
            " conv2d_225 (Conv2D)            (None, 7, 7, 128)    114688      ['activation_224[0][0]']         \n",
            "                                                                                                  \n",
            " batch_normalization_220 (Batch  (None, 7, 7, 128)   384         ['conv2d_220[0][0]']             \n",
            " Normalization)                                                                                   \n",
            "                                                                                                  \n",
            " batch_normalization_225 (Batch  (None, 7, 7, 128)   384         ['conv2d_225[0][0]']             \n",
            " Normalization)                                                                                   \n",
            "                                                                                                  \n",
            " activation_220 (Activation)    (None, 7, 7, 128)    0           ['batch_normalization_220[0][0]']\n",
            "                                                                                                  \n",
            " activation_225 (Activation)    (None, 7, 7, 128)    0           ['batch_normalization_225[0][0]']\n",
            "                                                                                                  \n",
            " average_pooling2d_21 (AverageP  (None, 7, 7, 768)   0           ['mixed3[0][0]']                 \n",
            " ooling2D)                                                                                        \n",
            "                                                                                                  \n",
            " conv2d_218 (Conv2D)            (None, 7, 7, 192)    147456      ['mixed3[0][0]']                 \n",
            "                                                                                                  \n",
            " conv2d_221 (Conv2D)            (None, 7, 7, 192)    172032      ['activation_220[0][0]']         \n",
            "                                                                                                  \n",
            " conv2d_226 (Conv2D)            (None, 7, 7, 192)    172032      ['activation_225[0][0]']         \n",
            "                                                                                                  \n",
            " conv2d_227 (Conv2D)            (None, 7, 7, 192)    147456      ['average_pooling2d_21[0][0]']   \n",
            "                                                                                                  \n",
            " batch_normalization_218 (Batch  (None, 7, 7, 192)   576         ['conv2d_218[0][0]']             \n",
            " Normalization)                                                                                   \n",
            "                                                                                                  \n",
            " batch_normalization_221 (Batch  (None, 7, 7, 192)   576         ['conv2d_221[0][0]']             \n",
            " Normalization)                                                                                   \n",
            "                                                                                                  \n",
            " batch_normalization_226 (Batch  (None, 7, 7, 192)   576         ['conv2d_226[0][0]']             \n",
            " Normalization)                                                                                   \n",
            "                                                                                                  \n",
            " batch_normalization_227 (Batch  (None, 7, 7, 192)   576         ['conv2d_227[0][0]']             \n",
            " Normalization)                                                                                   \n",
            "                                                                                                  \n",
            " activation_218 (Activation)    (None, 7, 7, 192)    0           ['batch_normalization_218[0][0]']\n",
            "                                                                                                  \n",
            " activation_221 (Activation)    (None, 7, 7, 192)    0           ['batch_normalization_221[0][0]']\n",
            "                                                                                                  \n",
            " activation_226 (Activation)    (None, 7, 7, 192)    0           ['batch_normalization_226[0][0]']\n",
            "                                                                                                  \n",
            " activation_227 (Activation)    (None, 7, 7, 192)    0           ['batch_normalization_227[0][0]']\n",
            "                                                                                                  \n",
            " mixed4 (Concatenate)           (None, 7, 7, 768)    0           ['activation_218[0][0]',         \n",
            "                                                                  'activation_221[0][0]',         \n",
            "                                                                  'activation_226[0][0]',         \n",
            "                                                                  'activation_227[0][0]']         \n",
            "                                                                                                  \n",
            " conv2d_232 (Conv2D)            (None, 7, 7, 160)    122880      ['mixed4[0][0]']                 \n",
            "                                                                                                  \n",
            " batch_normalization_232 (Batch  (None, 7, 7, 160)   480         ['conv2d_232[0][0]']             \n",
            " Normalization)                                                                                   \n",
            "                                                                                                  \n",
            " activation_232 (Activation)    (None, 7, 7, 160)    0           ['batch_normalization_232[0][0]']\n",
            "                                                                                                  \n",
            " conv2d_233 (Conv2D)            (None, 7, 7, 160)    179200      ['activation_232[0][0]']         \n",
            "                                                                                                  \n",
            " batch_normalization_233 (Batch  (None, 7, 7, 160)   480         ['conv2d_233[0][0]']             \n",
            " Normalization)                                                                                   \n",
            "                                                                                                  \n",
            " activation_233 (Activation)    (None, 7, 7, 160)    0           ['batch_normalization_233[0][0]']\n",
            "                                                                                                  \n",
            " conv2d_229 (Conv2D)            (None, 7, 7, 160)    122880      ['mixed4[0][0]']                 \n",
            "                                                                                                  \n",
            " conv2d_234 (Conv2D)            (None, 7, 7, 160)    179200      ['activation_233[0][0]']         \n",
            "                                                                                                  \n",
            " batch_normalization_229 (Batch  (None, 7, 7, 160)   480         ['conv2d_229[0][0]']             \n",
            " Normalization)                                                                                   \n",
            "                                                                                                  \n",
            " batch_normalization_234 (Batch  (None, 7, 7, 160)   480         ['conv2d_234[0][0]']             \n",
            " Normalization)                                                                                   \n",
            "                                                                                                  \n",
            " activation_229 (Activation)    (None, 7, 7, 160)    0           ['batch_normalization_229[0][0]']\n",
            "                                                                                                  \n",
            " activation_234 (Activation)    (None, 7, 7, 160)    0           ['batch_normalization_234[0][0]']\n",
            "                                                                                                  \n",
            " conv2d_230 (Conv2D)            (None, 7, 7, 160)    179200      ['activation_229[0][0]']         \n",
            "                                                                                                  \n",
            " conv2d_235 (Conv2D)            (None, 7, 7, 160)    179200      ['activation_234[0][0]']         \n",
            "                                                                                                  \n",
            " batch_normalization_230 (Batch  (None, 7, 7, 160)   480         ['conv2d_230[0][0]']             \n",
            " Normalization)                                                                                   \n",
            "                                                                                                  \n",
            " batch_normalization_235 (Batch  (None, 7, 7, 160)   480         ['conv2d_235[0][0]']             \n",
            " Normalization)                                                                                   \n",
            "                                                                                                  \n",
            " activation_230 (Activation)    (None, 7, 7, 160)    0           ['batch_normalization_230[0][0]']\n",
            "                                                                                                  \n",
            " activation_235 (Activation)    (None, 7, 7, 160)    0           ['batch_normalization_235[0][0]']\n",
            "                                                                                                  \n",
            " average_pooling2d_22 (AverageP  (None, 7, 7, 768)   0           ['mixed4[0][0]']                 \n",
            " ooling2D)                                                                                        \n",
            "                                                                                                  \n",
            " conv2d_228 (Conv2D)            (None, 7, 7, 192)    147456      ['mixed4[0][0]']                 \n",
            "                                                                                                  \n",
            " conv2d_231 (Conv2D)            (None, 7, 7, 192)    215040      ['activation_230[0][0]']         \n",
            "                                                                                                  \n",
            " conv2d_236 (Conv2D)            (None, 7, 7, 192)    215040      ['activation_235[0][0]']         \n",
            "                                                                                                  \n",
            " conv2d_237 (Conv2D)            (None, 7, 7, 192)    147456      ['average_pooling2d_22[0][0]']   \n",
            "                                                                                                  \n",
            " batch_normalization_228 (Batch  (None, 7, 7, 192)   576         ['conv2d_228[0][0]']             \n",
            " Normalization)                                                                                   \n",
            "                                                                                                  \n",
            " batch_normalization_231 (Batch  (None, 7, 7, 192)   576         ['conv2d_231[0][0]']             \n",
            " Normalization)                                                                                   \n",
            "                                                                                                  \n",
            " batch_normalization_236 (Batch  (None, 7, 7, 192)   576         ['conv2d_236[0][0]']             \n",
            " Normalization)                                                                                   \n",
            "                                                                                                  \n",
            " batch_normalization_237 (Batch  (None, 7, 7, 192)   576         ['conv2d_237[0][0]']             \n",
            " Normalization)                                                                                   \n",
            "                                                                                                  \n",
            " activation_228 (Activation)    (None, 7, 7, 192)    0           ['batch_normalization_228[0][0]']\n",
            "                                                                                                  \n",
            " activation_231 (Activation)    (None, 7, 7, 192)    0           ['batch_normalization_231[0][0]']\n",
            "                                                                                                  \n",
            " activation_236 (Activation)    (None, 7, 7, 192)    0           ['batch_normalization_236[0][0]']\n",
            "                                                                                                  \n",
            " activation_237 (Activation)    (None, 7, 7, 192)    0           ['batch_normalization_237[0][0]']\n",
            "                                                                                                  \n",
            " mixed5 (Concatenate)           (None, 7, 7, 768)    0           ['activation_228[0][0]',         \n",
            "                                                                  'activation_231[0][0]',         \n",
            "                                                                  'activation_236[0][0]',         \n",
            "                                                                  'activation_237[0][0]']         \n",
            "                                                                                                  \n",
            " conv2d_242 (Conv2D)            (None, 7, 7, 160)    122880      ['mixed5[0][0]']                 \n",
            "                                                                                                  \n",
            " batch_normalization_242 (Batch  (None, 7, 7, 160)   480         ['conv2d_242[0][0]']             \n",
            " Normalization)                                                                                   \n",
            "                                                                                                  \n",
            " activation_242 (Activation)    (None, 7, 7, 160)    0           ['batch_normalization_242[0][0]']\n",
            "                                                                                                  \n",
            " conv2d_243 (Conv2D)            (None, 7, 7, 160)    179200      ['activation_242[0][0]']         \n",
            "                                                                                                  \n",
            " batch_normalization_243 (Batch  (None, 7, 7, 160)   480         ['conv2d_243[0][0]']             \n",
            " Normalization)                                                                                   \n",
            "                                                                                                  \n",
            " activation_243 (Activation)    (None, 7, 7, 160)    0           ['batch_normalization_243[0][0]']\n",
            "                                                                                                  \n",
            " conv2d_239 (Conv2D)            (None, 7, 7, 160)    122880      ['mixed5[0][0]']                 \n",
            "                                                                                                  \n",
            " conv2d_244 (Conv2D)            (None, 7, 7, 160)    179200      ['activation_243[0][0]']         \n",
            "                                                                                                  \n",
            " batch_normalization_239 (Batch  (None, 7, 7, 160)   480         ['conv2d_239[0][0]']             \n",
            " Normalization)                                                                                   \n",
            "                                                                                                  \n",
            " batch_normalization_244 (Batch  (None, 7, 7, 160)   480         ['conv2d_244[0][0]']             \n",
            " Normalization)                                                                                   \n",
            "                                                                                                  \n",
            " activation_239 (Activation)    (None, 7, 7, 160)    0           ['batch_normalization_239[0][0]']\n",
            "                                                                                                  \n",
            " activation_244 (Activation)    (None, 7, 7, 160)    0           ['batch_normalization_244[0][0]']\n",
            "                                                                                                  \n",
            " conv2d_240 (Conv2D)            (None, 7, 7, 160)    179200      ['activation_239[0][0]']         \n",
            "                                                                                                  \n",
            " conv2d_245 (Conv2D)            (None, 7, 7, 160)    179200      ['activation_244[0][0]']         \n",
            "                                                                                                  \n",
            " batch_normalization_240 (Batch  (None, 7, 7, 160)   480         ['conv2d_240[0][0]']             \n",
            " Normalization)                                                                                   \n",
            "                                                                                                  \n",
            " batch_normalization_245 (Batch  (None, 7, 7, 160)   480         ['conv2d_245[0][0]']             \n",
            " Normalization)                                                                                   \n",
            "                                                                                                  \n",
            " activation_240 (Activation)    (None, 7, 7, 160)    0           ['batch_normalization_240[0][0]']\n",
            "                                                                                                  \n",
            " activation_245 (Activation)    (None, 7, 7, 160)    0           ['batch_normalization_245[0][0]']\n",
            "                                                                                                  \n",
            " average_pooling2d_23 (AverageP  (None, 7, 7, 768)   0           ['mixed5[0][0]']                 \n",
            " ooling2D)                                                                                        \n",
            "                                                                                                  \n",
            " conv2d_238 (Conv2D)            (None, 7, 7, 192)    147456      ['mixed5[0][0]']                 \n",
            "                                                                                                  \n",
            " conv2d_241 (Conv2D)            (None, 7, 7, 192)    215040      ['activation_240[0][0]']         \n",
            "                                                                                                  \n",
            " conv2d_246 (Conv2D)            (None, 7, 7, 192)    215040      ['activation_245[0][0]']         \n",
            "                                                                                                  \n",
            " conv2d_247 (Conv2D)            (None, 7, 7, 192)    147456      ['average_pooling2d_23[0][0]']   \n",
            "                                                                                                  \n",
            " batch_normalization_238 (Batch  (None, 7, 7, 192)   576         ['conv2d_238[0][0]']             \n",
            " Normalization)                                                                                   \n",
            "                                                                                                  \n",
            " batch_normalization_241 (Batch  (None, 7, 7, 192)   576         ['conv2d_241[0][0]']             \n",
            " Normalization)                                                                                   \n",
            "                                                                                                  \n",
            " batch_normalization_246 (Batch  (None, 7, 7, 192)   576         ['conv2d_246[0][0]']             \n",
            " Normalization)                                                                                   \n",
            "                                                                                                  \n",
            " batch_normalization_247 (Batch  (None, 7, 7, 192)   576         ['conv2d_247[0][0]']             \n",
            " Normalization)                                                                                   \n",
            "                                                                                                  \n",
            " activation_238 (Activation)    (None, 7, 7, 192)    0           ['batch_normalization_238[0][0]']\n",
            "                                                                                                  \n",
            " activation_241 (Activation)    (None, 7, 7, 192)    0           ['batch_normalization_241[0][0]']\n",
            "                                                                                                  \n",
            " activation_246 (Activation)    (None, 7, 7, 192)    0           ['batch_normalization_246[0][0]']\n",
            "                                                                                                  \n",
            " activation_247 (Activation)    (None, 7, 7, 192)    0           ['batch_normalization_247[0][0]']\n",
            "                                                                                                  \n",
            " mixed6 (Concatenate)           (None, 7, 7, 768)    0           ['activation_238[0][0]',         \n",
            "                                                                  'activation_241[0][0]',         \n",
            "                                                                  'activation_246[0][0]',         \n",
            "                                                                  'activation_247[0][0]']         \n",
            "                                                                                                  \n",
            " conv2d_252 (Conv2D)            (None, 7, 7, 192)    147456      ['mixed6[0][0]']                 \n",
            "                                                                                                  \n",
            " batch_normalization_252 (Batch  (None, 7, 7, 192)   576         ['conv2d_252[0][0]']             \n",
            " Normalization)                                                                                   \n",
            "                                                                                                  \n",
            " activation_252 (Activation)    (None, 7, 7, 192)    0           ['batch_normalization_252[0][0]']\n",
            "                                                                                                  \n",
            " conv2d_253 (Conv2D)            (None, 7, 7, 192)    258048      ['activation_252[0][0]']         \n",
            "                                                                                                  \n",
            " batch_normalization_253 (Batch  (None, 7, 7, 192)   576         ['conv2d_253[0][0]']             \n",
            " Normalization)                                                                                   \n",
            "                                                                                                  \n",
            " activation_253 (Activation)    (None, 7, 7, 192)    0           ['batch_normalization_253[0][0]']\n",
            "                                                                                                  \n",
            " conv2d_249 (Conv2D)            (None, 7, 7, 192)    147456      ['mixed6[0][0]']                 \n",
            "                                                                                                  \n",
            " conv2d_254 (Conv2D)            (None, 7, 7, 192)    258048      ['activation_253[0][0]']         \n",
            "                                                                                                  \n",
            " batch_normalization_249 (Batch  (None, 7, 7, 192)   576         ['conv2d_249[0][0]']             \n",
            " Normalization)                                                                                   \n",
            "                                                                                                  \n",
            " batch_normalization_254 (Batch  (None, 7, 7, 192)   576         ['conv2d_254[0][0]']             \n",
            " Normalization)                                                                                   \n",
            "                                                                                                  \n",
            " activation_249 (Activation)    (None, 7, 7, 192)    0           ['batch_normalization_249[0][0]']\n",
            "                                                                                                  \n",
            " activation_254 (Activation)    (None, 7, 7, 192)    0           ['batch_normalization_254[0][0]']\n",
            "                                                                                                  \n",
            " conv2d_250 (Conv2D)            (None, 7, 7, 192)    258048      ['activation_249[0][0]']         \n",
            "                                                                                                  \n",
            " conv2d_255 (Conv2D)            (None, 7, 7, 192)    258048      ['activation_254[0][0]']         \n",
            "                                                                                                  \n",
            " batch_normalization_250 (Batch  (None, 7, 7, 192)   576         ['conv2d_250[0][0]']             \n",
            " Normalization)                                                                                   \n",
            "                                                                                                  \n",
            " batch_normalization_255 (Batch  (None, 7, 7, 192)   576         ['conv2d_255[0][0]']             \n",
            " Normalization)                                                                                   \n",
            "                                                                                                  \n",
            " activation_250 (Activation)    (None, 7, 7, 192)    0           ['batch_normalization_250[0][0]']\n",
            "                                                                                                  \n",
            " activation_255 (Activation)    (None, 7, 7, 192)    0           ['batch_normalization_255[0][0]']\n",
            "                                                                                                  \n",
            " average_pooling2d_24 (AverageP  (None, 7, 7, 768)   0           ['mixed6[0][0]']                 \n",
            " ooling2D)                                                                                        \n",
            "                                                                                                  \n",
            " conv2d_248 (Conv2D)            (None, 7, 7, 192)    147456      ['mixed6[0][0]']                 \n",
            "                                                                                                  \n",
            " conv2d_251 (Conv2D)            (None, 7, 7, 192)    258048      ['activation_250[0][0]']         \n",
            "                                                                                                  \n",
            " conv2d_256 (Conv2D)            (None, 7, 7, 192)    258048      ['activation_255[0][0]']         \n",
            "                                                                                                  \n",
            " conv2d_257 (Conv2D)            (None, 7, 7, 192)    147456      ['average_pooling2d_24[0][0]']   \n",
            "                                                                                                  \n",
            " batch_normalization_248 (Batch  (None, 7, 7, 192)   576         ['conv2d_248[0][0]']             \n",
            " Normalization)                                                                                   \n",
            "                                                                                                  \n",
            " batch_normalization_251 (Batch  (None, 7, 7, 192)   576         ['conv2d_251[0][0]']             \n",
            " Normalization)                                                                                   \n",
            "                                                                                                  \n",
            " batch_normalization_256 (Batch  (None, 7, 7, 192)   576         ['conv2d_256[0][0]']             \n",
            " Normalization)                                                                                   \n",
            "                                                                                                  \n",
            " batch_normalization_257 (Batch  (None, 7, 7, 192)   576         ['conv2d_257[0][0]']             \n",
            " Normalization)                                                                                   \n",
            "                                                                                                  \n",
            " activation_248 (Activation)    (None, 7, 7, 192)    0           ['batch_normalization_248[0][0]']\n",
            "                                                                                                  \n",
            " activation_251 (Activation)    (None, 7, 7, 192)    0           ['batch_normalization_251[0][0]']\n",
            "                                                                                                  \n",
            " activation_256 (Activation)    (None, 7, 7, 192)    0           ['batch_normalization_256[0][0]']\n",
            "                                                                                                  \n",
            " activation_257 (Activation)    (None, 7, 7, 192)    0           ['batch_normalization_257[0][0]']\n",
            "                                                                                                  \n",
            " mixed7 (Concatenate)           (None, 7, 7, 768)    0           ['activation_248[0][0]',         \n",
            "                                                                  'activation_251[0][0]',         \n",
            "                                                                  'activation_256[0][0]',         \n",
            "                                                                  'activation_257[0][0]']         \n",
            "                                                                                                  \n",
            " conv2d_260 (Conv2D)            (None, 7, 7, 192)    147456      ['mixed7[0][0]']                 \n",
            "                                                                                                  \n",
            " batch_normalization_260 (Batch  (None, 7, 7, 192)   576         ['conv2d_260[0][0]']             \n",
            " Normalization)                                                                                   \n",
            "                                                                                                  \n",
            " activation_260 (Activation)    (None, 7, 7, 192)    0           ['batch_normalization_260[0][0]']\n",
            "                                                                                                  \n",
            " conv2d_261 (Conv2D)            (None, 7, 7, 192)    258048      ['activation_260[0][0]']         \n",
            "                                                                                                  \n",
            " batch_normalization_261 (Batch  (None, 7, 7, 192)   576         ['conv2d_261[0][0]']             \n",
            " Normalization)                                                                                   \n",
            "                                                                                                  \n",
            " activation_261 (Activation)    (None, 7, 7, 192)    0           ['batch_normalization_261[0][0]']\n",
            "                                                                                                  \n",
            " conv2d_258 (Conv2D)            (None, 7, 7, 192)    147456      ['mixed7[0][0]']                 \n",
            "                                                                                                  \n",
            " conv2d_262 (Conv2D)            (None, 7, 7, 192)    258048      ['activation_261[0][0]']         \n",
            "                                                                                                  \n",
            " batch_normalization_258 (Batch  (None, 7, 7, 192)   576         ['conv2d_258[0][0]']             \n",
            " Normalization)                                                                                   \n",
            "                                                                                                  \n",
            " batch_normalization_262 (Batch  (None, 7, 7, 192)   576         ['conv2d_262[0][0]']             \n",
            " Normalization)                                                                                   \n",
            "                                                                                                  \n",
            " activation_258 (Activation)    (None, 7, 7, 192)    0           ['batch_normalization_258[0][0]']\n",
            "                                                                                                  \n",
            " activation_262 (Activation)    (None, 7, 7, 192)    0           ['batch_normalization_262[0][0]']\n",
            "                                                                                                  \n",
            " conv2d_259 (Conv2D)            (None, 3, 3, 320)    552960      ['activation_258[0][0]']         \n",
            "                                                                                                  \n",
            " conv2d_263 (Conv2D)            (None, 3, 3, 192)    331776      ['activation_262[0][0]']         \n",
            "                                                                                                  \n",
            " batch_normalization_259 (Batch  (None, 3, 3, 320)   960         ['conv2d_259[0][0]']             \n",
            " Normalization)                                                                                   \n",
            "                                                                                                  \n",
            " batch_normalization_263 (Batch  (None, 3, 3, 192)   576         ['conv2d_263[0][0]']             \n",
            " Normalization)                                                                                   \n",
            "                                                                                                  \n",
            " activation_259 (Activation)    (None, 3, 3, 320)    0           ['batch_normalization_259[0][0]']\n",
            "                                                                                                  \n",
            " activation_263 (Activation)    (None, 3, 3, 192)    0           ['batch_normalization_263[0][0]']\n",
            "                                                                                                  \n",
            " max_pooling2d_11 (MaxPooling2D  (None, 3, 3, 768)   0           ['mixed7[0][0]']                 \n",
            " )                                                                                                \n",
            "                                                                                                  \n",
            " mixed8 (Concatenate)           (None, 3, 3, 1280)   0           ['activation_259[0][0]',         \n",
            "                                                                  'activation_263[0][0]',         \n",
            "                                                                  'max_pooling2d_11[0][0]']       \n",
            "                                                                                                  \n",
            " conv2d_268 (Conv2D)            (None, 3, 3, 448)    573440      ['mixed8[0][0]']                 \n",
            "                                                                                                  \n",
            " batch_normalization_268 (Batch  (None, 3, 3, 448)   1344        ['conv2d_268[0][0]']             \n",
            " Normalization)                                                                                   \n",
            "                                                                                                  \n",
            " activation_268 (Activation)    (None, 3, 3, 448)    0           ['batch_normalization_268[0][0]']\n",
            "                                                                                                  \n",
            " conv2d_265 (Conv2D)            (None, 3, 3, 384)    491520      ['mixed8[0][0]']                 \n",
            "                                                                                                  \n",
            " conv2d_269 (Conv2D)            (None, 3, 3, 384)    1548288     ['activation_268[0][0]']         \n",
            "                                                                                                  \n",
            " batch_normalization_265 (Batch  (None, 3, 3, 384)   1152        ['conv2d_265[0][0]']             \n",
            " Normalization)                                                                                   \n",
            "                                                                                                  \n",
            " batch_normalization_269 (Batch  (None, 3, 3, 384)   1152        ['conv2d_269[0][0]']             \n",
            " Normalization)                                                                                   \n",
            "                                                                                                  \n",
            " activation_265 (Activation)    (None, 3, 3, 384)    0           ['batch_normalization_265[0][0]']\n",
            "                                                                                                  \n",
            " activation_269 (Activation)    (None, 3, 3, 384)    0           ['batch_normalization_269[0][0]']\n",
            "                                                                                                  \n",
            " conv2d_266 (Conv2D)            (None, 3, 3, 384)    442368      ['activation_265[0][0]']         \n",
            "                                                                                                  \n",
            " conv2d_267 (Conv2D)            (None, 3, 3, 384)    442368      ['activation_265[0][0]']         \n",
            "                                                                                                  \n",
            " conv2d_270 (Conv2D)            (None, 3, 3, 384)    442368      ['activation_269[0][0]']         \n",
            "                                                                                                  \n",
            " conv2d_271 (Conv2D)            (None, 3, 3, 384)    442368      ['activation_269[0][0]']         \n",
            "                                                                                                  \n",
            " average_pooling2d_25 (AverageP  (None, 3, 3, 1280)  0           ['mixed8[0][0]']                 \n",
            " ooling2D)                                                                                        \n",
            "                                                                                                  \n",
            " conv2d_264 (Conv2D)            (None, 3, 3, 320)    409600      ['mixed8[0][0]']                 \n",
            "                                                                                                  \n",
            " batch_normalization_266 (Batch  (None, 3, 3, 384)   1152        ['conv2d_266[0][0]']             \n",
            " Normalization)                                                                                   \n",
            "                                                                                                  \n",
            " batch_normalization_267 (Batch  (None, 3, 3, 384)   1152        ['conv2d_267[0][0]']             \n",
            " Normalization)                                                                                   \n",
            "                                                                                                  \n",
            " batch_normalization_270 (Batch  (None, 3, 3, 384)   1152        ['conv2d_270[0][0]']             \n",
            " Normalization)                                                                                   \n",
            "                                                                                                  \n",
            " batch_normalization_271 (Batch  (None, 3, 3, 384)   1152        ['conv2d_271[0][0]']             \n",
            " Normalization)                                                                                   \n",
            "                                                                                                  \n",
            " conv2d_272 (Conv2D)            (None, 3, 3, 192)    245760      ['average_pooling2d_25[0][0]']   \n",
            "                                                                                                  \n",
            " batch_normalization_264 (Batch  (None, 3, 3, 320)   960         ['conv2d_264[0][0]']             \n",
            " Normalization)                                                                                   \n",
            "                                                                                                  \n",
            " activation_266 (Activation)    (None, 3, 3, 384)    0           ['batch_normalization_266[0][0]']\n",
            "                                                                                                  \n",
            " activation_267 (Activation)    (None, 3, 3, 384)    0           ['batch_normalization_267[0][0]']\n",
            "                                                                                                  \n",
            " activation_270 (Activation)    (None, 3, 3, 384)    0           ['batch_normalization_270[0][0]']\n",
            "                                                                                                  \n",
            " activation_271 (Activation)    (None, 3, 3, 384)    0           ['batch_normalization_271[0][0]']\n",
            "                                                                                                  \n",
            " batch_normalization_272 (Batch  (None, 3, 3, 192)   576         ['conv2d_272[0][0]']             \n",
            " Normalization)                                                                                   \n",
            "                                                                                                  \n",
            " activation_264 (Activation)    (None, 3, 3, 320)    0           ['batch_normalization_264[0][0]']\n",
            "                                                                                                  \n",
            " mixed9_0 (Concatenate)         (None, 3, 3, 768)    0           ['activation_266[0][0]',         \n",
            "                                                                  'activation_267[0][0]']         \n",
            "                                                                                                  \n",
            " concatenate_4 (Concatenate)    (None, 3, 3, 768)    0           ['activation_270[0][0]',         \n",
            "                                                                  'activation_271[0][0]']         \n",
            "                                                                                                  \n",
            " activation_272 (Activation)    (None, 3, 3, 192)    0           ['batch_normalization_272[0][0]']\n",
            "                                                                                                  \n",
            " mixed9 (Concatenate)           (None, 3, 3, 2048)   0           ['activation_264[0][0]',         \n",
            "                                                                  'mixed9_0[0][0]',               \n",
            "                                                                  'concatenate_4[0][0]',          \n",
            "                                                                  'activation_272[0][0]']         \n",
            "                                                                                                  \n",
            " conv2d_277 (Conv2D)            (None, 3, 3, 448)    917504      ['mixed9[0][0]']                 \n",
            "                                                                                                  \n",
            " batch_normalization_277 (Batch  (None, 3, 3, 448)   1344        ['conv2d_277[0][0]']             \n",
            " Normalization)                                                                                   \n",
            "                                                                                                  \n",
            " activation_277 (Activation)    (None, 3, 3, 448)    0           ['batch_normalization_277[0][0]']\n",
            "                                                                                                  \n",
            " conv2d_274 (Conv2D)            (None, 3, 3, 384)    786432      ['mixed9[0][0]']                 \n",
            "                                                                                                  \n",
            " conv2d_278 (Conv2D)            (None, 3, 3, 384)    1548288     ['activation_277[0][0]']         \n",
            "                                                                                                  \n",
            " batch_normalization_274 (Batch  (None, 3, 3, 384)   1152        ['conv2d_274[0][0]']             \n",
            " Normalization)                                                                                   \n",
            "                                                                                                  \n",
            " batch_normalization_278 (Batch  (None, 3, 3, 384)   1152        ['conv2d_278[0][0]']             \n",
            " Normalization)                                                                                   \n",
            "                                                                                                  \n",
            " activation_274 (Activation)    (None, 3, 3, 384)    0           ['batch_normalization_274[0][0]']\n",
            "                                                                                                  \n",
            " activation_278 (Activation)    (None, 3, 3, 384)    0           ['batch_normalization_278[0][0]']\n",
            "                                                                                                  \n",
            " conv2d_275 (Conv2D)            (None, 3, 3, 384)    442368      ['activation_274[0][0]']         \n",
            "                                                                                                  \n",
            " conv2d_276 (Conv2D)            (None, 3, 3, 384)    442368      ['activation_274[0][0]']         \n",
            "                                                                                                  \n",
            " conv2d_279 (Conv2D)            (None, 3, 3, 384)    442368      ['activation_278[0][0]']         \n",
            "                                                                                                  \n",
            " conv2d_280 (Conv2D)            (None, 3, 3, 384)    442368      ['activation_278[0][0]']         \n",
            "                                                                                                  \n",
            " average_pooling2d_26 (AverageP  (None, 3, 3, 2048)  0           ['mixed9[0][0]']                 \n",
            " ooling2D)                                                                                        \n",
            "                                                                                                  \n",
            " conv2d_273 (Conv2D)            (None, 3, 3, 320)    655360      ['mixed9[0][0]']                 \n",
            "                                                                                                  \n",
            " batch_normalization_275 (Batch  (None, 3, 3, 384)   1152        ['conv2d_275[0][0]']             \n",
            " Normalization)                                                                                   \n",
            "                                                                                                  \n",
            " batch_normalization_276 (Batch  (None, 3, 3, 384)   1152        ['conv2d_276[0][0]']             \n",
            " Normalization)                                                                                   \n",
            "                                                                                                  \n",
            " batch_normalization_279 (Batch  (None, 3, 3, 384)   1152        ['conv2d_279[0][0]']             \n",
            " Normalization)                                                                                   \n",
            "                                                                                                  \n",
            " batch_normalization_280 (Batch  (None, 3, 3, 384)   1152        ['conv2d_280[0][0]']             \n",
            " Normalization)                                                                                   \n",
            "                                                                                                  \n",
            " conv2d_281 (Conv2D)            (None, 3, 3, 192)    393216      ['average_pooling2d_26[0][0]']   \n",
            "                                                                                                  \n",
            " batch_normalization_273 (Batch  (None, 3, 3, 320)   960         ['conv2d_273[0][0]']             \n",
            " Normalization)                                                                                   \n",
            "                                                                                                  \n",
            " activation_275 (Activation)    (None, 3, 3, 384)    0           ['batch_normalization_275[0][0]']\n",
            "                                                                                                  \n",
            " activation_276 (Activation)    (None, 3, 3, 384)    0           ['batch_normalization_276[0][0]']\n",
            "                                                                                                  \n",
            " activation_279 (Activation)    (None, 3, 3, 384)    0           ['batch_normalization_279[0][0]']\n",
            "                                                                                                  \n",
            " activation_280 (Activation)    (None, 3, 3, 384)    0           ['batch_normalization_280[0][0]']\n",
            "                                                                                                  \n",
            " batch_normalization_281 (Batch  (None, 3, 3, 192)   576         ['conv2d_281[0][0]']             \n",
            " Normalization)                                                                                   \n",
            "                                                                                                  \n",
            " activation_273 (Activation)    (None, 3, 3, 320)    0           ['batch_normalization_273[0][0]']\n",
            "                                                                                                  \n",
            " mixed9_1 (Concatenate)         (None, 3, 3, 768)    0           ['activation_275[0][0]',         \n",
            "                                                                  'activation_276[0][0]']         \n",
            "                                                                                                  \n",
            " concatenate_5 (Concatenate)    (None, 3, 3, 768)    0           ['activation_279[0][0]',         \n",
            "                                                                  'activation_280[0][0]']         \n",
            "                                                                                                  \n",
            " activation_281 (Activation)    (None, 3, 3, 192)    0           ['batch_normalization_281[0][0]']\n",
            "                                                                                                  \n",
            " mixed10 (Concatenate)          (None, 3, 3, 2048)   0           ['activation_273[0][0]',         \n",
            "                                                                  'mixed9_1[0][0]',               \n",
            "                                                                  'concatenate_5[0][0]',          \n",
            "                                                                  'activation_281[0][0]']         \n",
            "                                                                                                  \n",
            "==================================================================================================\n",
            "Total params: 21,802,784\n",
            "Trainable params: 0\n",
            "Non-trainable params: 21,802,784\n",
            "__________________________________________________________________________________________________\n"
          ]
        }
      ],
      "source": [
        "pre_trained_model = create_pre_trained_model(local_weights_file)\n",
        "\n",
        "# Print the model summary\n",
        "pre_trained_model.summary()"
      ],
      "id": "ve7eh9iztT4q"
    },
    {
      "cell_type": "markdown",
      "metadata": {
        "id": "4cAY2gQytr0-"
      },
      "source": [
        "**Expected Output:**\n",
        "```\n",
        "batch_normalization_v1_281 (Bat (None, 3, 3, 192)    576         conv2d_281[0][0]                 \n",
        "__________________________________________________________________________________________________\n",
        "activation_273 (Activation)     (None, 3, 3, 320)    0           batch_normalization_v1_273[0][0] \n",
        "__________________________________________________________________________________________________\n",
        "mixed9_1 (Concatenate)          (None, 3, 3, 768)    0           activation_275[0][0]             \n",
        "                                                                activation_276[0][0]             \n",
        "__________________________________________________________________________________________________\n",
        "concatenate_5 (Concatenate)     (None, 3, 3, 768)    0           activation_279[0][0]             \n",
        "                                                                activation_280[0][0]             \n",
        "__________________________________________________________________________________________________\n",
        "activation_281 (Activation)     (None, 3, 3, 192)    0           batch_normalization_v1_281[0][0] \n",
        "__________________________________________________________________________________________________\n",
        "mixed10 (Concatenate)           (None, 3, 3, 2048)   0           activation_273[0][0]             \n",
        "                                                                mixed9_1[0][0]                   \n",
        "                                                                concatenate_5[0][0]              \n",
        "                                                                activation_281[0][0]             \n",
        "==================================================================================================\n",
        "Total params: 21,802,784\n",
        "Trainable params: 0\n",
        "Non-trainable params: 21,802,784\n",
        "\n",
        "\n",
        "```"
      ],
      "id": "4cAY2gQytr0-"
    },
    {
      "cell_type": "markdown",
      "metadata": {
        "id": "MRHkV9jo-hkh"
      },
      "source": [
        "To check that all the layers in the model were set to be non-trainable, you can also run the cell below:"
      ],
      "id": "MRHkV9jo-hkh"
    },
    {
      "cell_type": "code",
      "execution_count": 25,
      "metadata": {
        "id": "VASOaB8xDbhU",
        "tags": [
          "graded"
        ],
        "outputId": "73c91245-b2a8-46c4-c67d-e11128ee3100",
        "colab": {
          "base_uri": "https://localhost:8080/"
        }
      },
      "outputs": [
        {
          "output_type": "stream",
          "name": "stdout",
          "text": [
            "There are 21,802,784 total parameters in this model.\n",
            "There are 0 trainable parameters in this model.\n"
          ]
        }
      ],
      "source": [
        "total_params = pre_trained_model.count_params()\n",
        "num_trainable_params = sum([w.shape.num_elements() for w in pre_trained_model.trainable_weights])\n",
        "\n",
        "print(f\"There are {total_params:,} total parameters in this model.\")\n",
        "print(f\"There are {num_trainable_params:,} trainable parameters in this model.\")"
      ],
      "id": "VASOaB8xDbhU"
    },
    {
      "cell_type": "markdown",
      "metadata": {
        "id": "mRioO7FH5a8I"
      },
      "source": [
        "**Expected Output:**\n",
        "```\n",
        "There are 21,802,784 total parameters in this model.\n",
        "There are 0 trainable parameters in this model.\n",
        "```"
      ],
      "id": "mRioO7FH5a8I"
    },
    {
      "cell_type": "markdown",
      "metadata": {
        "id": "dFtwDyKj-4GR"
      },
      "source": [
        "## Creating callbacks for later\n",
        "\n",
        "You have already worked with callbacks in the first course of this specialization so the callback to stop training once an accuracy of 99.9% is reached, is provided for you:"
      ],
      "id": "dFtwDyKj-4GR"
    },
    {
      "cell_type": "code",
      "execution_count": 26,
      "metadata": {
        "id": "SeVjZD2o7gWS",
        "tags": [
          "graded"
        ]
      },
      "outputs": [],
      "source": [
        "# Define a Callback class that stops training once accuracy reaches 99.9%\n",
        "class myCallback(tf.keras.callbacks.Callback):\n",
        "  def on_epoch_end(self, epoch, logs={}):\n",
        "    if(logs.get('accuracy')>0.999):\n",
        "      print(\"\\nReached 99.9% accuracy so cancelling training!\")\n",
        "      self.model.stop_training = True"
      ],
      "id": "SeVjZD2o7gWS"
    },
    {
      "cell_type": "markdown",
      "metadata": {
        "id": "lHZnFl-5_p3a"
      },
      "source": [
        "## Pipelining the pre-trained model with your own\n",
        "\n",
        "Now that the pre-trained model is ready, you need to \"glue\" it to your own model to solve the task at hand.\n",
        "\n",
        "For this you will need the last output of the pre-trained model, since this will be the input for your own. Complete the `output_of_last_layer` function below.\n",
        "\n",
        "**Note:** For grading purposes use the `mixed7` layer as the last layer of the pre-trained model. However, after submitting feel free to come back here and play around with this."
      ],
      "id": "lHZnFl-5_p3a"
    },
    {
      "cell_type": "code",
      "execution_count": 27,
      "metadata": {
        "id": "CFsUlwdfs_wg",
        "tags": [
          "graded"
        ]
      },
      "outputs": [],
      "source": [
        "# GRADED FUNCTION: output_of_last_layer\n",
        "def output_of_last_layer(pre_trained_model):\n",
        "  \"\"\"\n",
        "  Gets the last layer output of a model\n",
        "  \n",
        "  Args:\n",
        "    pre_trained_model (tf.keras Model): model to get the last layer output from\n",
        "    \n",
        "  Returns:\n",
        "    last_output: output of the model's last layer \n",
        "  \"\"\"\n",
        "  ### START CODE HERE\n",
        "  last_desired_layer = pre_trained_model.get_layer('mixed7')\n",
        "  print('last layer output shape: ', last_desired_layer.output_shape)\n",
        "  last_output = last_desired_layer.output\n",
        "  print('last layer output: ', last_output)\n",
        "  ### END CODE HERE\n",
        "\n",
        "  return last_output\n"
      ],
      "id": "CFsUlwdfs_wg"
    },
    {
      "cell_type": "markdown",
      "metadata": {
        "id": "13AEzKG2A6_J"
      },
      "source": [
        "Check that everything works as expected:"
      ],
      "id": "13AEzKG2A6_J"
    },
    {
      "cell_type": "code",
      "execution_count": 28,
      "metadata": {
        "id": "zOJPUtMN6PHo",
        "tags": [
          "graded"
        ],
        "outputId": "abbc0314-25c8-431a-c04d-8d8c8c88b733",
        "colab": {
          "base_uri": "https://localhost:8080/"
        }
      },
      "outputs": [
        {
          "output_type": "stream",
          "name": "stdout",
          "text": [
            "last layer output shape:  (None, 7, 7, 768)\n",
            "last layer output:  KerasTensor(type_spec=TensorSpec(shape=(None, 7, 7, 768), dtype=tf.float32, name=None), name='mixed7/concat:0', description=\"created by layer 'mixed7'\")\n"
          ]
        }
      ],
      "source": [
        "last_output = output_of_last_layer(pre_trained_model)"
      ],
      "id": "zOJPUtMN6PHo"
    },
    {
      "cell_type": "markdown",
      "metadata": {
        "id": "XqIWKZ_h7CuY"
      },
      "source": [
        "**Expected Output (if `mixed7` layer was used):**\n",
        "```\n",
        "last layer output shape:  (None, 7, 7, 768)\n",
        "last layer output:  KerasTensor(type_spec=TensorSpec(shape=(None, 7, 7, 768), dtype=tf.float32, name=None), name='mixed7/concat:0', description=\"created by layer 'mixed7'\")\n",
        "```"
      ],
      "id": "XqIWKZ_h7CuY"
    },
    {
      "cell_type": "markdown",
      "metadata": {
        "id": "0Rp-J6JuwJTq"
      },
      "source": [
        "Now you will create the final model by adding some additional layers on top of the pre-trained model.\n",
        "\n",
        "Complete the `create_final_model` function below. You will need to use Tensorflow's [Functional API](https://www.tensorflow.org/guide/keras/functional) for this since the pretrained model has been created using it. \n",
        "\n",
        "Let's double check this first:"
      ],
      "id": "0Rp-J6JuwJTq"
    },
    {
      "cell_type": "code",
      "execution_count": 29,
      "metadata": {
        "id": "cKQknB4j7K9y",
        "tags": [
          "graded"
        ],
        "outputId": "5cc20178-886e-433b-d8b7-7b3706c2165e",
        "colab": {
          "base_uri": "https://localhost:8080/"
        }
      },
      "outputs": [
        {
          "output_type": "stream",
          "name": "stdout",
          "text": [
            "The pretrained model has type: <class 'keras.engine.functional.Functional'>\n"
          ]
        }
      ],
      "source": [
        "# Print the type of the pre-trained model\n",
        "print(f\"The pretrained model has type: {type(pre_trained_model)}\")"
      ],
      "id": "cKQknB4j7K9y"
    },
    {
      "cell_type": "markdown",
      "metadata": {
        "id": "Kt7AU7jP7LW9"
      },
      "source": [
        "To create the final model, you will use Keras' Model class by defining the appropriate inputs and outputs as described in the first way to instantiate a Model in the [docs](https://www.tensorflow.org/api_docs/python/tf/keras/Model).\n",
        "\n",
        "Note that you can get the input from any existing model by using its `input` attribute and by using the Funcional API you can use the last layer directly as output when creating the final model."
      ],
      "id": "Kt7AU7jP7LW9"
    },
    {
      "cell_type": "code",
      "execution_count": 36,
      "metadata": {
        "cellView": "code",
        "id": "BMXb913pbvFg",
        "tags": [
          "graded"
        ]
      },
      "outputs": [],
      "source": [
        "# GRADED FUNCTION: create_final_model\n",
        "def create_final_model(pre_trained_model, last_output):\n",
        "  \"\"\"\n",
        "  Appends a custom model to a pre-trained model\n",
        "  \n",
        "  Args:\n",
        "    pre_trained_model (tf.keras Model): model that will accept the train/test inputs\n",
        "    last_output (tensor): last layer output of the pre-trained model\n",
        "    \n",
        "  Returns:\n",
        "    model: the combined model\n",
        "  \"\"\"\n",
        "  # Flatten the output layer to 1 dimension\n",
        "  x = layers.Flatten()(last_output)\n",
        "\n",
        "  ### START CODE HERE\n",
        "\n",
        "  # Add a fully connected layer with 1024 hidden units and ReLU activation\n",
        "  x = layers.Dense(1024, activation='relu')(x)\n",
        "  # Add a dropout rate of 0.2\n",
        "  x = layers.Dropout(0.2)(x)\n",
        "  # Add a final sigmoid layer for classification\n",
        "  x = layers.Dense(1, activation='sigmoid')(x)     \n",
        "\n",
        "  # Create the complete model by using the Model class\n",
        "  model = Model(pre_trained_model.input , x)\n",
        "\n",
        "  # Compile the model\n",
        "  model.compile(optimizer = RMSprop(learning_rate=0.0001), \n",
        "                loss = 'binary_crossentropy',\n",
        "                metrics = ['accuracy'])\n",
        "\n",
        "  ### END CODE HERE\n",
        "  \n",
        "  return model\n"
      ],
      "id": "BMXb913pbvFg"
    },
    {
      "cell_type": "code",
      "execution_count": 37,
      "metadata": {
        "id": "cL6ga5Z1783H",
        "tags": [
          "graded"
        ],
        "outputId": "e0e696b4-b0c0-4765-ea7e-f1aaeb2878ba",
        "colab": {
          "base_uri": "https://localhost:8080/"
        }
      },
      "outputs": [
        {
          "output_type": "stream",
          "name": "stdout",
          "text": [
            "There are 47,512,481 total parameters in this model.\n",
            "There are 38,537,217 trainable parameters in this model.\n"
          ]
        }
      ],
      "source": [
        "# Save your model in a variable\n",
        "model = create_final_model(pre_trained_model, last_output)\n",
        "\n",
        "# Inspect parameters\n",
        "total_params = model.count_params()\n",
        "num_trainable_params = sum([w.shape.num_elements() for w in model.trainable_weights])\n",
        "\n",
        "print(f\"There are {total_params:,} total parameters in this model.\")\n",
        "print(f\"There are {num_trainable_params:,} trainable parameters in this model.\")"
      ],
      "id": "cL6ga5Z1783H"
    },
    {
      "cell_type": "markdown",
      "metadata": {
        "id": "J4d3zlcQDrvm"
      },
      "source": [
        "**Expected Output:**\n",
        "```\n",
        "There are 47,512,481 total parameters in this model.\n",
        "There are 38,537,217 trainable parameters in this model.\n",
        "```"
      ],
      "id": "J4d3zlcQDrvm"
    },
    {
      "cell_type": "markdown",
      "metadata": {
        "id": "_eqwHj5xEBZ7"
      },
      "source": [
        "Wow, that is a lot of parameters!\n",
        "\n",
        "After submitting your assignment later, try re-running this notebook but use the original resolution of 300x300, you will be surprised to see how many more parameters are for that case.\n",
        "\n",
        "Now train the model:"
      ],
      "id": "_eqwHj5xEBZ7"
    },
    {
      "cell_type": "code",
      "execution_count": 38,
      "metadata": {
        "id": "Blhq2MAUeyGA",
        "tags": [],
        "outputId": "a798d1ec-27b0-4c75-c1eb-8ec2b8ca6271",
        "colab": {
          "base_uri": "https://localhost:8080/"
        }
      },
      "outputs": [
        {
          "output_type": "stream",
          "name": "stdout",
          "text": [
            "Epoch 1/100\n",
            "33/33 - 11s - loss: 0.0322 - accuracy: 0.9844 - val_loss: 0.0765 - val_accuracy: 0.9766 - 11s/epoch - 334ms/step\n",
            "Epoch 2/100\n",
            "\n",
            "Reached 99.9% accuracy so cancelling training!\n",
            "33/33 - 7s - loss: 6.9369e-05 - accuracy: 1.0000 - val_loss: 0.0855 - val_accuracy: 0.9766 - 7s/epoch - 207ms/step\n"
          ]
        }
      ],
      "source": [
        "# Run this and see how many epochs it should take before the callback\n",
        "# fires, and stops training at 99.9% accuracy\n",
        "# (It should take a few epochs)\n",
        "callbacks = myCallback()\n",
        "history = model.fit(train_generator,\n",
        "                    validation_data = validation_generator,\n",
        "                    epochs = 100,\n",
        "                    verbose = 2,\n",
        "                    callbacks=callbacks)"
      ],
      "id": "Blhq2MAUeyGA"
    },
    {
      "cell_type": "markdown",
      "metadata": {
        "id": "Y94djl4t0sK5"
      },
      "source": [
        "The training should have stopped after less than 10 epochs and it should have reached an accuracy over 99,9% (firing the callback). This happened so quickly because of the pre-trained model you used, which already contained information to classify humans from horses. Really cool!\n",
        "\n",
        "Now take a quick look at the training and validation accuracies for each epoch of training:"
      ],
      "id": "Y94djl4t0sK5"
    },
    {
      "cell_type": "code",
      "execution_count": 39,
      "metadata": {
        "id": "C2Fp6Se9rKuL",
        "tags": [],
        "outputId": "f2d4f5fc-1f5c-4b37-98c4-d6759fbf991e",
        "colab": {
          "base_uri": "https://localhost:8080/",
          "height": 298
        }
      },
      "outputs": [
        {
          "output_type": "display_data",
          "data": {
            "text/plain": [
              "<Figure size 432x288 with 1 Axes>"
            ],
            "image/png": "[encoded data removed]"
          },
          "metadata": {
            "needs_background": "light"
          }
        },
        {
          "output_type": "display_data",
          "data": {
            "text/plain": [
              "<Figure size 432x288 with 0 Axes>"
            ]
          },
          "metadata": {}
        }
      ],
      "source": [
        "# Plot the training and validation accuracies for each epoch\n",
        "\n",
        "acc = history.history['accuracy']\n",
        "val_acc = history.history['val_accuracy']\n",
        "loss = history.history['loss']\n",
        "val_loss = history.history['val_loss']\n",
        "\n",
        "epochs = range(len(acc))\n",
        "\n",
        "plt.plot(epochs, acc, 'r', label='Training accuracy')\n",
        "plt.plot(epochs, val_acc, 'b', label='Validation accuracy')\n",
        "plt.title('Training and validation accuracy')\n",
        "plt.legend(loc=0)\n",
        "plt.figure()\n",
        "\n",
        "plt.show()"
      ],
      "id": "C2Fp6Se9rKuL"
    },
    {
      "cell_type": "markdown",
      "metadata": {
        "id": "g-4-4i9U1a0s"
      },
      "source": [
        "You will need to submit this notebook for grading. To download it, click on the `File` tab in the upper left corner of the screen then click on `Download` -> `Download .ipynb`. You can name it anything you want as long as it is a valid `.ipynb` (jupyter notebook) file."
      ],
      "id": "g-4-4i9U1a0s"
    },
    {
      "cell_type": "markdown",
      "metadata": {
        "id": "7w54-pbB1W9r"
      },
      "source": [
        "**Congratulations on finishing this week's assignment!**\n",
        "\n",
        "You have successfully implemented a convolutional neural network that leverages a pre-trained network to help you solve the problem of classifying humans from horses.\n",
        "\n",
        "**Keep it up!**"
      ],
      "id": "7w54-pbB1W9r"
    }
  ],
  "metadata": {
    "accelerator": "GPU",
    "kernelspec": {
      "display_name": "Python 3",
      "language": "python",
      "name": "python3"
    },
    "language_info": {
      "codemirror_mode": {
        "name": "ipython",
        "version": 3
      },
      "file_extension": ".py",
      "mimetype": "text/x-python",
      "name": "python",
      "nbconvert_exporter": "python",
      "pygments_lexer": "ipython3",
      "version": "3.7.4"
    },
    "colab": {
      "provenance": []
    }
  },
  "nbformat": 4,
  "nbformat_minor": 5
}